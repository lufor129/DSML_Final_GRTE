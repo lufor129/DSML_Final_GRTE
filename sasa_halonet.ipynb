{
 "cells": [
  {
   "cell_type": "code",
   "execution_count": 1,
   "id": "dd7c0046",
   "metadata": {},
   "outputs": [],
   "source": [
    "import torch\n",
    "import torch.nn as nn\n",
    "import torch.nn.functional as F\n",
    "import torch.nn.init as init\n",
    "\n",
    "import math\n",
    "\n",
    "\n",
    "class AttentionConv(nn.Module):\n",
    "    def __init__(self, in_channels, out_channels, kernel_size, stride=1, padding=0, groups=1, bias=False):\n",
    "        super(AttentionConv, self).__init__()\n",
    "        self.out_channels = out_channels\n",
    "        self.kernel_size = kernel_size\n",
    "        self.stride = stride\n",
    "        self.padding = padding\n",
    "        self.groups = groups\n",
    "\n",
    "        assert self.out_channels % self.groups == 0, \"out_channels should be divided by groups. (example: out_channels: 40, groups: 4)\"\n",
    "\n",
    "        self.rel_h = nn.Parameter(torch.randn(out_channels // 2, 1, 1, kernel_size, 1), requires_grad=True)\n",
    "        self.rel_w = nn.Parameter(torch.randn(out_channels // 2, 1, 1, 1, kernel_size), requires_grad=True)\n",
    "\n",
    "        self.key_conv = nn.Conv2d(in_channels, out_channels, kernel_size=1, bias=bias)\n",
    "        self.query_conv = nn.Conv2d(in_channels, out_channels, kernel_size=1, bias=bias)\n",
    "        self.value_conv = nn.Conv2d(in_channels, out_channels, kernel_size=1, bias=bias)\n",
    "\n",
    "        self.reset_parameters()\n",
    "\n",
    "    def forward(self, x):\n",
    "        batch, channels, height, width = x.size()\n",
    "\n",
    "        padded_x = F.pad(x, [self.padding, self.padding, self.padding, self.padding])\n",
    "        q_out = self.query_conv(x)\n",
    "        k_out = self.key_conv(padded_x)\n",
    "        v_out = self.value_conv(padded_x)\n",
    "\n",
    "        k_out = k_out.unfold(2, self.kernel_size, self.stride).unfold(3, self.kernel_size, self.stride)\n",
    "        v_out = v_out.unfold(2, self.kernel_size, self.stride).unfold(3, self.kernel_size, self.stride)\n",
    "\n",
    "        k_out_h, k_out_w = k_out.split(self.out_channels // 2, dim=1)\n",
    "        k_out = torch.cat((k_out_h + self.rel_h, k_out_w + self.rel_w), dim=1)\n",
    "\n",
    "        k_out = k_out.contiguous().view(batch, self.groups, self.out_channels // self.groups, height, width, -1)\n",
    "        v_out = v_out.contiguous().view(batch, self.groups, self.out_channels // self.groups, height, width, -1)\n",
    "\n",
    "        q_out = q_out.view(batch, self.groups, self.out_channels // self.groups, height, width, 1)\n",
    "\n",
    "        out = q_out * k_out\n",
    "        out = F.softmax(out, dim=-1)\n",
    "        out = torch.einsum('bnchwk,bnchwk -> bnchw', out, v_out).view(batch, -1, height, width)\n",
    "\n",
    "        return out\n",
    "\n",
    "    def reset_parameters(self):\n",
    "        init.kaiming_normal_(self.key_conv.weight, mode='fan_out', nonlinearity='relu')\n",
    "        init.kaiming_normal_(self.value_conv.weight, mode='fan_out', nonlinearity='relu')\n",
    "        init.kaiming_normal_(self.query_conv.weight, mode='fan_out', nonlinearity='relu')\n",
    "\n",
    "        init.normal_(self.rel_h, 0, 1)\n",
    "        init.normal_(self.rel_w, 0, 1)"
   ]
  },
  {
   "cell_type": "code",
   "execution_count": 13,
   "id": "1ea86909",
   "metadata": {},
   "outputs": [
    {
     "name": "stdout",
     "output_type": "stream",
     "text": [
      "torch.Size([2, 100, 32, 32])\n"
     ]
    }
   ],
   "source": [
    "temp = torch.randn((2, 3, 32, 32))\n",
    "conv = AttentionConv(3, 100, kernel_size=3, padding=1)\n",
    "print(conv(temp).size())"
   ]
  },
  {
   "cell_type": "code",
   "execution_count": null,
   "id": "235ab3c4",
   "metadata": {},
   "outputs": [],
   "source": [
    "!pip install halonet-pytorch"
   ]
  },
  {
   "cell_type": "code",
   "execution_count": 15,
   "id": "b7486022",
   "metadata": {},
   "outputs": [
    {
     "name": "stdout",
     "output_type": "stream",
     "text": [
      "torch.Size([2, 5, 32, 32])\n"
     ]
    }
   ],
   "source": [
    "import torch\n",
    "from halonet_pytorch import HaloAttention\n",
    "\n",
    "attn = HaloAttention(\n",
    "    dim = 5,           # dimension of feature map\n",
    "    block_size = 8,    # neighborhood block size (feature map must be divisible by this)\n",
    "    halo_size = 4,     # halo size (block receptive field)\n",
    "    dim_head = 64,     # dimension of each head\n",
    "    heads = 4          # number of attention heads\n",
    ")\n",
    "\n",
    "fmap = torch.randn(2, 5, 32, 32)\n",
    "output = attn(fmap) # (2, 5, 32, 32)\n",
    "print(output.size())"
   ]
  }
 ],
 "metadata": {
  "kernelspec": {
   "display_name": "Python [conda env:ner_re]",
   "language": "python",
   "name": "conda-env-ner_re-py"
  },
  "language_info": {
   "codemirror_mode": {
    "name": "ipython",
    "version": 3
   },
   "file_extension": ".py",
   "mimetype": "text/x-python",
   "name": "python",
   "nbconvert_exporter": "python",
   "pygments_lexer": "ipython3",
   "version": "3.8.0"
  }
 },
 "nbformat": 4,
 "nbformat_minor": 5
}
